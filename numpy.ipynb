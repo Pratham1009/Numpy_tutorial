{
 "cells": [
  {
   "cell_type": "markdown",
   "id": "cf232eac-cf55-4e47-8da5-9785e7b6c351",
   "metadata": {},
   "source": [
    "## Welcome to Numpy Tutorial"
   ]
  },
  {
   "cell_type": "code",
   "execution_count": 45,
   "id": "452ed5d7-2bef-4982-bc7a-ca1d40f72481",
   "metadata": {},
   "outputs": [],
   "source": [
    "import numpy as np"
   ]
  },
  {
   "cell_type": "markdown",
   "id": "0d3058f0-185d-47d4-9970-52d8ce2febaa",
   "metadata": {},
   "source": [
    "## Array"
   ]
  },
  {
   "cell_type": "code",
   "execution_count": 46,
   "id": "c844ab7d-0d63-401f-8106-3002c9c9e8d6",
   "metadata": {},
   "outputs": [
    {
     "name": "stdout",
     "output_type": "stream",
     "text": [
      "Array : [9 0 2 1]\n"
     ]
    }
   ],
   "source": [
    "## Creating Array\n",
    "arr = np.array([9,0,2,1])\n",
    "print(\"Array :\",arr)"
   ]
  },
  {
   "cell_type": "code",
   "execution_count": 47,
   "id": "03e70b2b-c5d1-4b79-916c-2049d5d23513",
   "metadata": {},
   "outputs": [
    {
     "name": "stdout",
     "output_type": "stream",
     "text": [
      "Array : [1.  2.5 5.7]\n"
     ]
    }
   ],
   "source": [
    "arrr = np.array([1.0,2.5,5.7])\n",
    "print(\"Array :\",arrr)"
   ]
  },
  {
   "cell_type": "code",
   "execution_count": 48,
   "id": "eb1fe2e0-1ae3-4d57-b682-cd0e8dc2b5d5",
   "metadata": {},
   "outputs": [
    {
     "name": "stdout",
     "output_type": "stream",
     "text": [
      "Your array is : [[0 2 4]\n",
      " [1 3 5]\n",
      " [6 8 7]]\n"
     ]
    }
   ],
   "source": [
    "ar=([0,2,4],[1,3,5],[6,8,7])\n",
    "array=np.array(ar)\n",
    "print(\"Your array is :\",array)"
   ]
  },
  {
   "cell_type": "code",
   "execution_count": 49,
   "id": "14f40bac-2bf9-4970-833f-245ea78cdd34",
   "metadata": {},
   "outputs": [],
   "source": [
    "## Different types\n",
    "a = [1, 2, 3, 4, 5]\n",
    "b = (33, 55, 33, 22, 44)\n",
    "c = ('1', '2', '3')\n",
    "d = \"Hello World\""
   ]
  },
  {
   "cell_type": "code",
   "execution_count": 50,
   "id": "fed4e559-144e-4eea-830e-a6b5b4b0b8ea",
   "metadata": {},
   "outputs": [
    {
     "name": "stdout",
     "output_type": "stream",
     "text": [
      "[1, 2, 3, 4, 5]\n",
      "(33, 55, 33, 22, 44)\n",
      "('1', '2', '3')\n",
      "Hello World\n"
     ]
    }
   ],
   "source": [
    "print(a)\n",
    "print(b)\n",
    "print(c)\n",
    "print(d)"
   ]
  },
  {
   "cell_type": "code",
   "execution_count": 51,
   "id": "fbb9874a-c22c-4156-88d8-b0c0c70b6e45",
   "metadata": {},
   "outputs": [
    {
     "name": "stdout",
     "output_type": "stream",
     "text": [
      "1-D array: [1, 2, 3, 4, 5]\n"
     ]
    }
   ],
   "source": [
    "## 1-D Array\n",
    "a = [1, 2, 3, 4, 5]\n",
    "print(\"1-D array:\",a)"
   ]
  },
  {
   "cell_type": "code",
   "execution_count": 52,
   "id": "ce80167c-aa96-4cc4-8549-3bd0f77d735f",
   "metadata": {},
   "outputs": [
    {
     "name": "stdout",
     "output_type": "stream",
     "text": [
      "2-D array: [[ 8  8  8  8]\n",
      " [52 41 26 95]]\n"
     ]
    }
   ],
   "source": [
    "## 2-D Array\n",
    "ar=  [[8,8,8,8], [52,41,26,95]]\n",
    "var = np.array(ar,dtype=int)\n",
    "print(\"2-D array:\",var)\n"
   ]
  },
  {
   "cell_type": "markdown",
   "id": "a5e7e28c-ba49-4969-952b-98fe0957bfe3",
   "metadata": {},
   "source": [
    "## Array Creation"
   ]
  },
  {
   "cell_type": "code",
   "execution_count": 53,
   "id": "818d2c77-36be-47be-bfe7-8af6f5ee8b5d",
   "metadata": {},
   "outputs": [],
   "source": [
    "## Diffrent Ways to Create Array\n"
   ]
  },
  {
   "cell_type": "code",
   "execution_count": 58,
   "id": "c6579cf8-2cfb-45d0-b631-96a614480303",
   "metadata": {},
   "outputs": [
    {
     "name": "stdout",
     "output_type": "stream",
     "text": [
      "The numbers are arrange from 1 to 20: [ 1  2  3  4  5  6  7  8  9 10 11 12 13 14 15 16 17 18 19]\n"
     ]
    }
   ],
   "source": [
    "## using arrange\n",
    "arr=np.arange(1,20)\n",
    "print(\"The numbers are arrange from 1 to 20:\",arr)"
   ]
  },
  {
   "cell_type": "code",
   "execution_count": 59,
   "id": "a1fa1513-d606-402d-b95f-16d60408050e",
   "metadata": {},
   "outputs": [
    {
     "name": "stdout",
     "output_type": "stream",
     "text": [
      "The numbers are arrange till 10: [0 1 2 3 4 5 6 7 8 9]\n"
     ]
    }
   ],
   "source": [
    "arr=np.arange(10)\n",
    "print(\"The numbers are arrange till 10:\",arr)"
   ]
  },
  {
   "cell_type": "code",
   "execution_count": 61,
   "id": "cb20354b-dafa-48cd-90db-3026aaa174b2",
   "metadata": {},
   "outputs": [
    {
     "name": "stdout",
     "output_type": "stream",
     "text": [
      "The numbers are arrange till 10: [5. 6. 7. 8. 9.]\n"
     ]
    }
   ],
   "source": [
    "arr=np.arange(5,10,dtype=float)\n",
    "print(\"The numbers are arrange till 10:\",arr)"
   ]
  },
  {
   "cell_type": "code",
   "execution_count": 71,
   "id": "462b327f-609a-4646-81ad-136af9f363b3",
   "metadata": {},
   "outputs": [
    {
     "name": "stdout",
     "output_type": "stream",
     "text": [
      "It will print no. from 1 to 10 with equal distribution: (array([ 1.  ,  3.25,  5.5 ,  7.75, 10.  ]), 2.25)\n"
     ]
    }
   ],
   "source": [
    "## using linspace\n",
    "lin=np.linspace(1,10,5,retstep=True)\n",
    "print(\"It will print no. from 1 to 10 with equal distribution:\",lin)"
   ]
  },
  {
   "cell_type": "code",
   "execution_count": 72,
   "id": "6e119cf7-8d36-4dc6-a50d-653581bf0ab3",
   "metadata": {},
   "outputs": [
    {
     "data": {
      "text/plain": [
       "array([[0., 0.],\n",
       "       [0., 0.],\n",
       "       [0., 0.]])"
      ]
     },
     "execution_count": 72,
     "metadata": {},
     "output_type": "execute_result"
    }
   ],
   "source": [
    "np.zeros([3,2])"
   ]
  },
  {
   "cell_type": "code",
   "execution_count": 77,
   "id": "e5b7710e-da29-4cc0-98a9-bebe5daec943",
   "metadata": {},
   "outputs": [
    {
     "data": {
      "text/plain": [
       "array([1., 1., 1., 1., 1., 1., 1., 1., 1., 1.])"
      ]
     },
     "execution_count": 77,
     "metadata": {},
     "output_type": "execute_result"
    }
   ],
   "source": [
    "np.ones(10)"
   ]
  },
  {
   "cell_type": "code",
   "execution_count": 79,
   "id": "4ef4cc4e-6503-412b-9587-23f18541eeaf",
   "metadata": {},
   "outputs": [
    {
     "data": {
      "text/plain": [
       "array([[10, 10, 10],\n",
       "       [10, 10, 10],\n",
       "       [10, 10, 10],\n",
       "       [10, 10, 10]])"
      ]
     },
     "execution_count": 79,
     "metadata": {},
     "output_type": "execute_result"
    }
   ],
   "source": [
    "np.full([4,3], 10)\n"
   ]
  },
  {
   "cell_type": "code",
   "execution_count": 82,
   "id": "c0e20265-af64-46ff-93a0-c6e4a1142fdb",
   "metadata": {},
   "outputs": [
    {
     "data": {
      "text/plain": [
       "array(['NP', 'NP', 'NP', 'NP', 'NP', 'NP', 'NP', 'NP', 'NP', 'NP'],\n",
       "      dtype=object)"
      ]
     },
     "execution_count": 82,
     "metadata": {},
     "output_type": "execute_result"
    }
   ],
   "source": [
    "np.full(10,\"NP\",dtype=object)"
   ]
  },
  {
   "cell_type": "code",
   "execution_count": 84,
   "id": "fc7dfca7-93ae-43ba-81e3-98410c6fea3d",
   "metadata": {},
   "outputs": [
    {
     "data": {
      "text/plain": [
       "array([['np', 'np', 'np'],\n",
       "       ['np', 'np', 'np'],\n",
       "       ['np', 'np', 'np']], dtype='<U2')"
      ]
     },
     "execution_count": 84,
     "metadata": {},
     "output_type": "execute_result"
    }
   ],
   "source": [
    " np.full([3,3], 'np')"
   ]
  },
  {
   "cell_type": "code",
   "execution_count": null,
   "id": "97815c46-18a3-447f-82b3-16bbb65b1f65",
   "metadata": {},
   "outputs": [],
   "source": []
  },
  {
   "cell_type": "markdown",
   "id": "d522948d-77e8-48d2-9d71-d9976a1b0b91",
   "metadata": {},
   "source": [
    "## 2-D Array Creation"
   ]
  },
  {
   "cell_type": "code",
   "execution_count": 85,
   "id": "dae27da5-d1ad-4bb4-8139-e75f9fae1254",
   "metadata": {},
   "outputs": [
    {
     "name": "stdout",
     "output_type": "stream",
     "text": [
      "[[1. 0. 0.]\n",
      " [0. 1. 0.]\n",
      " [0. 0. 1.]]\n"
     ]
    }
   ],
   "source": [
    "## using eye\n",
    "arr=np.eye(3)\n",
    "print(arr)"
   ]
  },
  {
   "cell_type": "code",
   "execution_count": 88,
   "id": "76a89ed3-32ac-4c59-9982-4765b4aeef8c",
   "metadata": {},
   "outputs": [
    {
     "name": "stdout",
     "output_type": "stream",
     "text": [
      "[[1. 0. 0. 0. 0.]\n",
      " [0. 1. 0. 0. 0.]\n",
      " [0. 0. 1. 0. 0.]\n",
      " [0. 0. 0. 1. 0.]\n",
      " [0. 0. 0. 0. 1.]]\n"
     ]
    }
   ],
   "source": [
    "arr=np.eye(5,5)\n",
    "print(arr)"
   ]
  },
  {
   "cell_type": "code",
   "execution_count": 90,
   "id": "6fd9c707-b277-43f0-ada6-f44ab6ba7b4b",
   "metadata": {},
   "outputs": [
    {
     "data": {
      "text/plain": [
       "array([[9, 0, 0],\n",
       "       [0, 0, 0],\n",
       "       [0, 0, 2]])"
      ]
     },
     "execution_count": 90,
     "metadata": {},
     "output_type": "execute_result"
    }
   ],
   "source": [
    "## using diagonal\n",
    "np.diag([9,0,2])\n"
   ]
  },
  {
   "cell_type": "code",
   "execution_count": 91,
   "id": "7e150c52-dfda-476a-99dd-887e996e0034",
   "metadata": {},
   "outputs": [],
   "source": [
    "## Basic Attributes"
   ]
  },
  {
   "cell_type": "code",
   "execution_count": 92,
   "id": "274ca4fb-fe3e-4b3d-be23-5bea579023aa",
   "metadata": {},
   "outputs": [
    {
     "name": "stdout",
     "output_type": "stream",
     "text": [
      "The reshape attribute: [[1 2 3]\n",
      " [4 5 6]]\n"
     ]
    }
   ],
   "source": [
    "a = np.array([1, 2, 3, 4, 5, 6])\n",
    "b = a.reshape((2, 3))\n",
    "print(\"The reshape attribute:\",b)"
   ]
  },
  {
   "cell_type": "code",
   "execution_count": 94,
   "id": "b1b1db9e-f6ac-4b8d-a57f-80f2bd126902",
   "metadata": {},
   "outputs": [
    {
     "name": "stdout",
     "output_type": "stream",
     "text": [
      "The Rezsize attribute: [[11 22 33 44]\n",
      " [11 22 33 44]\n",
      " [11 22 33 44]]\n"
     ]
    }
   ],
   "source": [
    "a = np.array([11, 22, 33, 44])\n",
    "b = np.resize(a, (3, 4))\n",
    "print(\"The Rezsize attribute:\",b)"
   ]
  },
  {
   "cell_type": "code",
   "execution_count": 99,
   "id": "7a5b5b1d-34d3-4a76-abb2-9cec4e0dbf4d",
   "metadata": {},
   "outputs": [
    {
     "name": "stdout",
     "output_type": "stream",
     "text": [
      "The Tile attribute: [[1 2 5 1 2 5]\n",
      " [1 2 5 1 2 5]]\n"
     ]
    }
   ],
   "source": [
    "a = np.array([1, 2,5])\n",
    "b = np.tile(a, [2,2])\n",
    "print(\"The Tile attribute:\",b)"
   ]
  },
  {
   "cell_type": "code",
   "execution_count": 105,
   "id": "bb776e46-7d85-4982-9cc8-24e37393849a",
   "metadata": {},
   "outputs": [
    {
     "name": "stdout",
     "output_type": "stream",
     "text": [
      "The repeat attribute: [4 4 4 5 5 5]\n"
     ]
    }
   ],
   "source": [
    "b=4,5\n",
    "c = np.repeat(b,3)\n",
    "print(\"The repeat attribute:\",c)"
   ]
  },
  {
   "cell_type": "code",
   "execution_count": 107,
   "id": "e6d0156b-c523-4a47-9d33-5c030d62aa0e",
   "metadata": {},
   "outputs": [
    {
     "name": "stdout",
     "output_type": "stream",
     "text": [
      "The ndim attribute is : 2\n"
     ]
    }
   ],
   "source": [
    "a = np.array([[11, 12, 13], [4, 5, 6]])\n",
    "print(\"The ndim attribute is :\",a.ndim)"
   ]
  },
  {
   "cell_type": "code",
   "execution_count": 109,
   "id": "7bb1ce2d-61ed-450f-8ebb-872307bf0eb4",
   "metadata": {},
   "outputs": [
    {
     "name": "stdout",
     "output_type": "stream",
     "text": [
      "The Flatten attribute: [9 0 2 1 8 0 2 9 0 0]\n"
     ]
    }
   ],
   "source": [
    "a = np.array([[9,0,2,1,8], [0,2,9,0,0]])\n",
    "print(\"The Flatten attribute:\",a.flatten())"
   ]
  },
  {
   "cell_type": "code",
   "execution_count": 110,
   "id": "b76b1ff5-a462-49b2-823d-a23cd630912a",
   "metadata": {},
   "outputs": [
    {
     "name": "stdout",
     "output_type": "stream",
     "text": [
      "[0 2 4 6 8]\n"
     ]
    }
   ],
   "source": [
    "a = np.arange(0, 10, 2)\n",
    "print(a)"
   ]
  },
  {
   "cell_type": "code",
   "execution_count": null,
   "id": "ff6a457b-6a16-4281-b730-7a1bab4d810e",
   "metadata": {},
   "outputs": [],
   "source": []
  }
 ],
 "metadata": {
  "kernelspec": {
   "display_name": "Python 3 (ipykernel)",
   "language": "python",
   "name": "python3"
  },
  "language_info": {
   "codemirror_mode": {
    "name": "ipython",
    "version": 3
   },
   "file_extension": ".py",
   "mimetype": "text/x-python",
   "name": "python",
   "nbconvert_exporter": "python",
   "pygments_lexer": "ipython3",
   "version": "3.11.7"
  }
 },
 "nbformat": 4,
 "nbformat_minor": 5
}
